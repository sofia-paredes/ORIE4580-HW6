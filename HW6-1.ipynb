{
 "cells": [
  {
   "cell_type": "markdown",
   "metadata": {
    "id": "yEYDm_ICb4GC"
   },
   "source": [
    "# ORIE 4580/5580 Assignment 6\n",
    "\n",
    "#### Students: Maddi Klancher (mrk256) and Sofia Paredes (smp343)\n",
    "\n",
    "### Github link: [example Github link](https://github.com/)\n"
   ]
  },
  {
   "cell_type": "markdown",
   "metadata": {
    "id": "l3G_wUFRg9v6"
   },
   "source": [
    "### Instructions\n",
    "\n",
    "\n",
    "* Due Tuesday, November 14, at 11.59am on Gradescope.\n",
    "* Assignment .ipynb files available for download on [Canvas](https://canvas.cornell.edu/courses/56826#:~:text=Assignments-,Assignments,-Assignments%20Module%20publish). Do all your work in provided notebook (text answers typeset in markdown; show all required code and generate plots inline), and then generate and submit a pdf.\n",
    "* Ideally do assignments in groups of 2, and submit a single pdf with both names\n",
    "* Please show your work and clearly mark your answers.\n",
    "* You can use any code fragments given in class, found online (for example, on StackOverflow), or generated via Bard or ChatGPT (you are encouraged to use these for first drafts) **with proper referencing**. You can also discuss with others (again, please reference them if you do so); but you must write your final answers on your own as a team.\n",
    "\n",
    "\n",
    "\n",
    "### Suggested reading\n",
    "\n",
    "[Mor Harchol-Balter's chapter](https://canvas.cornell.edu/courses/56826/files/9180297/download?download_frd=1) on the Poisson process (on Canvas)"
   ]
  },
  {
   "cell_type": "code",
   "execution_count": 57,
   "metadata": {},
   "outputs": [],
   "source": [
    "import numpy as np\n",
    "import random as rand\n",
    "import matplotlib.pyplot as plt\n",
    "import statsmodels.api as sm\n",
    "import scipy.stats as stats"
   ]
  },
  {
   "cell_type": "markdown",
   "metadata": {
    "id": "e8ndo1Pm5S9E"
   },
   "source": [
    "___\n",
    "___\n",
    "\n",
    "# Question 1: Everyone goes to Gimme! (25 points)\n",
    "\n",
    "The downtown Ithaca Gimme! store sees a Poisson arrival process with rate\n",
    "\n",
    "$$ \\lambda(t)=\\frac{1}{56}\\left(5t^3-90t^2+300t+1480\\right) \\quad \\text{for } 0 \\leq t \\leq 12,$$\n",
    "\n",
    "over the 12 hours on the weekdays it is open.\n"
   ]
  },
  {
   "cell_type": "markdown",
   "metadata": {
    "id": "F4ENNINL5guU"
   },
   "source": [
    "___\n",
    "\n",
    "**(a)** Compute the exact probability that the coffee store will see more than 250 customers in one 12 hour day. Do not use simulation.\n",
    "___\n"
   ]
  },
  {
   "cell_type": "markdown",
   "metadata": {
    "id": "JISOt5FL5oWO"
   },
   "source": [
    "## Ans.\n",
    "\n",
    "$P[\\text{Coffee store arrivals} \\ge \\text{250 customers in a one 12 hour day}]$\n",
    "\n",
    "Mean: $ E[\\text{# of customers over 12 hours}]$ $ = \\int_{0}^{12}\\lambda (t)dt = \\int_{0}^{12}\\frac{1}{56}\\left(5t^3-90t^2+300t+1480\\right) = 240$\n",
    "\n",
    "$ E[\\text{# of customers over 12 hours}] = 240$\n",
    "\n",
    "$P(N(t)=k)=\\frac{e^{-\\lambda t}(\\lambda t)^k}{k!}$\n",
    "\n",
    "$P(N(t) \\ge 250) = 1 - P(N(t) \\le 250) = 1 - CDF(250)$\n",
    "\n",
    "$P(N(t) \\le k) = CDF(k) = \\Sigma_{i=0}^{k}[\\frac{e^{-\\lambda t}(\\lambda t)^i}{i!}]$\n",
    "\n",
    "$P(N(t) \\le 250) = CDF(250) = \\Sigma_{i=0}^{250}[\\frac{e^{-\\lambda t}(\\lambda t)^i}{i!}]$\n"
   ]
  },
  {
   "cell_type": "markdown",
   "metadata": {},
   "source": [
    "$ \\lambda(t)'=\\frac{1}{56}\\left(15t^2-180t+300\\right) \\quad \\text{for } 0 \\leq t \\leq 12$\n",
    "\n",
    "Maximum $\\lambda^*$ at $ \\lambda(t)' = 0 $ where $t* = 2$ and $\\lambda^* = 31.429$"
   ]
  },
  {
   "cell_type": "code",
   "execution_count": 130,
   "metadata": {},
   "outputs": [
    {
     "name": "stdout",
     "output_type": "stream",
     "text": [
      "Probability:  0.24711253205956696\n"
     ]
    }
   ],
   "source": [
    "import scipy.stats as stats\n",
    "\n",
    "mu = 240\n",
    "cdf_250 = stats.poisson.cdf(250,mu)\n",
    "prob = 1-cdf_250\n",
    "\n",
    "print(\"Probability: \", prob)"
   ]
  },
  {
   "cell_type": "markdown",
   "metadata": {
    "id": "J9_Sh_Hf5rca"
   },
   "source": [
    "___\n",
    "\n",
    "**(b)** Use thinning to simulate 500 replications of the Poisson arrival process. Based on these replications, estimate the probability in Part (a) and report a 95\\% confidence interval.\n",
    "\n",
    "___"
   ]
  },
  {
   "cell_type": "markdown",
   "metadata": {
    "id": "iZ3iHE745ty7"
   },
   "source": [
    "## Ans.\n",
    "\n"
   ]
  },
  {
   "cell_type": "code",
   "execution_count": 119,
   "metadata": {},
   "outputs": [
    {
     "name": "stdout",
     "output_type": "stream",
     "text": [
      "Probability of more than 250 customers:  0.258\n",
      "95% confidence interval:  (0.21961075032541066, 0.29638924967458935)\n"
     ]
    }
   ],
   "source": [
    "import numpy as np\n",
    "from scipy.stats import poisson, norm\n",
    "\n",
    "n=500\n",
    "max_time = 12\n",
    "max_lambda = 31.429\n",
    "arrivals = []\n",
    "count = []\n",
    "\n",
    "def lambda_t(t):\n",
    "    return (1/56) * (5 * t**3 - 90 * t**2 + 300 * t + 1480)\n",
    "\n",
    "for i in range(500):\n",
    "    T = []\n",
    "    t = 0\n",
    "\n",
    "    while t<max_time:\n",
    "        A = np.random.exponential(1/max_lambda)\n",
    "        t += A\n",
    "        u = np.random.uniform(0,1)\n",
    "        prob = (lambda_t(t)/max_lambda)\n",
    "        if(u<=prob):\n",
    "            T.append(t)\n",
    "            \n",
    "    if len(T) >= 250:\n",
    "        count.append(1)\n",
    "    else:\n",
    "        count.append(0)\n",
    "    \n",
    "\n",
    "mean_prob = np.mean(count)\n",
    "std_error = np.std(count, ddof=1)/np.sqrt(n)\n",
    "\n",
    "z = norm.ppf(0.975)\n",
    "CI = (mean_prob-z*std_error,mean_prob+z*std_error)\n",
    "\n",
    "print(\"Probability of more than 250 customers: \", mean_prob)\n",
    "print(\"95% confidence interval: \", CI)\n"
   ]
  },
  {
   "cell_type": "markdown",
   "metadata": {
    "id": "atztSUh657dR"
   },
   "source": [
    "___\n",
    "**(c)** Based on your 500 replications, make a bar plot showing the average number of customers who arrive during each of the twelve hours of operation. Plot the rate function $\\lambda(t)$ and compare.\n",
    "___"
   ]
  },
  {
   "cell_type": "markdown",
   "metadata": {
    "id": "uJoZkqXT5_RA"
   },
   "source": [
    "## Ans."
   ]
  },
  {
   "cell_type": "code",
   "execution_count": 15,
   "metadata": {},
   "outputs": [
    {
     "data": {
      "image/png": "[encoded data removed]",
      "text/plain": [
       "<Figure size 720x432 with 1 Axes>"
      ]
     },
     "metadata": {
      "needs_background": "light"
     },
     "output_type": "display_data"
    }
   ],
   "source": [
    "import numpy as np\n",
    "import matplotlib.pyplot as plt\n",
    "\n",
    "n=500\n",
    "max_time = 12\n",
    "hours = list(range(1,max_time+1))\n",
    "average_arrivals = [0] * max_time\n",
    "\n",
    "def lambda_t(t):\n",
    "    return (1/56) * (5 * t**3 - 90 * t**2 + 300 * t + 1480)\n",
    "\n",
    "for i in range(n):\n",
    "    count_per_hour = np.zeros(max_time)\n",
    "    for hour in range(max_time):\n",
    "        t_1 = hour\n",
    "        t_2 = hour + 1\n",
    "        x = np.random.uniform(t_1,t_2)\n",
    "        y = lambda_t(x)\n",
    "        num_arrivals = np.random.poisson(y)\n",
    "        count_per_hour[hour] = num_arrivals\n",
    "    average_arrivals = np.add(average_arrivals,count_per_hour)\n",
    "    \n",
    "average_arrivals /= 500\n",
    "\n",
    "# bar plot\n",
    "plt.figure(figsize=(10,6))\n",
    "plt.bar(hours, average_arrivals, color='blue', label=\"Average # of Customers per Hour\")\n",
    "plt.plot(hours, [lambda_t(t) for t in hours], color='red', marker = 'o', linestyle='-', label='λ(t)')\n",
    "plt.xlabel(\"Hour\")\n",
    "plt.ylabel(\"Average # of Customers\")\n",
    "plt.title(\"Average Customers per Hour vs. λ(t)\")\n",
    "plt.legend()\n",
    "plt.show()"
   ]
  },
  {
   "cell_type": "markdown",
   "metadata": {
    "id": "5AMJpIgg0AUP"
   },
   "source": [
    "\n",
    "\n",
    "\n",
    "---\n",
    "---\n",
    "\n",
    "\n",
    "# Question 2: Putting my son to bed (30 points)\n",
    "\n",
    "Sid uses a Spotify playlist with $n$ soothing songs to put his son to sleep. He plays the playlist on shuffle, but is worried that some songs may not get played (he spent a long time curating the playlist!).\n",
    "\n",
    "___\n",
    "**(a)**\n",
    "Suppose Spotify truly picks a random song each time -- Sid wants to know how many songs it takes on average to play **every song** on his playlist. Build a simulator to estimate this for a different values of $n$, and use this to try and guess the function.\n",
    "\n",
    "*Note: Try and pick a large range of $n$ to get a sense of the function of number of songs needed to play all vs. $n$ -- if you are adventurous, try to fit the function. Make sure you always show your CIs!*\n",
    "___"
   ]
  },
  {
   "cell_type": "markdown",
   "metadata": {
    "id": "FdZFPY8J00Nz"
   },
   "source": [
    "## Ans.\n"
   ]
  },
  {
   "cell_type": "code",
   "execution_count": 58,
   "metadata": {},
   "outputs": [],
   "source": [
    "def check_songs(n):\n",
    "    songs = np.arange(1, n + 1)\n",
    "    counters = []\n",
    "    \n",
    "    for i in range(1000): \n",
    "        counter = 0 \n",
    "        song_dict = {}\n",
    "        while len(song_dict) < n:\n",
    "            rand_song = rand.choice(songs)\n",
    "            if rand_song not in song_dict:\n",
    "                song_dict[rand_song] = 1\n",
    "            counter += 1\n",
    "        counters.append(counter)\n",
    "        \n",
    "    return counters"
   ]
  },
  {
   "cell_type": "code",
   "execution_count": 59,
   "metadata": {},
   "outputs": [
    {
     "name": "stdout",
     "output_type": "stream",
     "text": [
      "For n = 10 the average number of songs to play all songs is: 29.25\n",
      "95% CI: [26.99, 31.51]\n",
      "\n",
      "\n",
      "For n = 20 the average number of songs to play all songs is: 71.58\n",
      "95% CI: [66.97, 76.19]\n",
      "\n",
      "\n",
      "For n = 30 the average number of songs to play all songs is: 119.34\n",
      "95% CI: [111.94, 126.74]\n",
      "\n",
      "\n",
      "For n = 40 the average number of songs to play all songs is: 172.84\n",
      "95% CI: [162.99, 182.69]\n",
      "\n",
      "\n",
      "For n = 50 the average number of songs to play all songs is: 227.12\n",
      "95% CI: [214.47, 239.77]\n",
      "\n",
      "\n",
      "For n = 100 the average number of songs to play all songs is: 518.89\n",
      "95% CI: [494.34, 543.44]\n",
      "\n",
      "\n",
      "For n = 200 the average number of songs to play all songs is: 1176.16\n",
      "95% CI: [1126.98, 1225.34]\n",
      "\n",
      "\n",
      "For n = 250 the average number of songs to play all songs is: 1524.19\n",
      "95% CI: [1464.22, 1584.16]\n",
      "\n",
      "\n",
      "For n = 500 the average number of songs to play all songs is: 3419.26\n",
      "95% CI: [3293.77, 3544.75]\n",
      "\n",
      "\n"
     ]
    },
    {
     "data": {
      "image/png": "[encoded data removed]",
      "text/plain": [
       "<Figure size 432x288 with 1 Axes>"
      ]
     },
     "metadata": {
      "needs_background": "light"
     },
     "output_type": "display_data"
    }
   ],
   "source": [
    "values = [10, 20, 30, 40, 50, 100, 200, 250, 500]\n",
    "means = []\n",
    "for value in values:\n",
    "    result = check_songs(value)\n",
    "    mean = round(np.mean(result), 2)\n",
    "    means.append(mean)\n",
    "    std = round(np.std(result), 2)\n",
    "    halfwidth = 1.96 * std / (np.sqrt(100))\n",
    "    ci = [round(mean - halfwidth, 2), round(mean + halfwidth, 2)]\n",
    "    print('For n = ' + str(value) + ' the average number of songs to play all songs is: ' + str(mean)) \n",
    "    print('95% CI: ' + str(ci))\n",
    "    print('\\n')\n",
    "\n",
    "plt.plot(values, means)\n",
    "plt.xlabel('Number of songs in a playlist')\n",
    "plt.ylabel('Average number of songs to play all songs')\n",
    "plt.show()"
   ]
  },
  {
   "cell_type": "code",
   "execution_count": 60,
   "metadata": {},
   "outputs": [
    {
     "data": {
      "text/plain": [
       "Text(0, 0.5, 'Average Amount of Songs to Play All')"
      ]
     },
     "execution_count": 60,
     "metadata": {},
     "output_type": "execute_result"
    },
    {
     "data": {
      "image/png": "[encoded data removed]",
      "text/plain": [
       "<Figure size 432x288 with 1 Axes>"
      ]
     },
     "metadata": {
      "needs_background": "light"
     },
     "output_type": "display_data"
    }
   ],
   "source": [
    "x = values\n",
    "y = means\n",
    "model = sm.OLS(y, x)\n",
    "results = model.fit()\n",
    "y_pred = results.predict(x)\n",
    "\n",
    "plt.plot(x, y, label = 'Observed Values')\n",
    "plt.plot(x, y_pred, label = 'Fitted Values')\n",
    "plt.legend()\n",
    "plt.xlabel('Songs in Playlist')\n",
    "plt.ylabel('Average Amount of Songs to Play All')\n"
   ]
  },
  {
   "cell_type": "code",
   "execution_count": 61,
   "metadata": {},
   "outputs": [
    {
     "name": "stdout",
     "output_type": "stream",
     "text": [
      "                                 OLS Regression Results                                \n",
      "=======================================================================================\n",
      "Dep. Variable:                      y   R-squared (uncentered):                   0.994\n",
      "Model:                            OLS   Adj. R-squared (uncentered):              0.993\n",
      "Method:                 Least Squares   F-statistic:                              1270.\n",
      "Date:                Mon, 13 Nov 2023   Prob (F-statistic):                    4.21e-10\n",
      "Time:                        19:48:43   Log-Likelihood:                         -54.632\n",
      "No. Observations:                   9   AIC:                                      111.3\n",
      "Df Residuals:                       8   BIC:                                      111.5\n",
      "Df Model:                           1                                                  \n",
      "Covariance Type:            nonrobust                                                  \n",
      "==============================================================================\n",
      "                 coef    std err          t      P>|t|      [0.025      0.975]\n",
      "------------------------------------------------------------------------------\n",
      "x1             6.5255      0.183     35.640      0.000       6.103       6.948\n",
      "==============================================================================\n",
      "Omnibus:                       16.856   Durbin-Watson:                   0.733\n",
      "Prob(Omnibus):                  0.000   Jarque-Bera (JB):                7.897\n",
      "Skew:                           1.910   Prob(JB):                       0.0193\n",
      "Kurtosis:                       5.544   Cond. No.                         1.00\n",
      "==============================================================================\n",
      "\n",
      "Notes:\n",
      "[1] R² is computed without centering (uncentered) since the model does not contain a constant.\n",
      "[2] Standard Errors assume that the covariance matrix of the errors is correctly specified.\n"
     ]
    },
    {
     "name": "stderr",
     "output_type": "stream",
     "text": [
      "/Users/maddiklancher/opt/anaconda3/lib/python3.9/site-packages/scipy/stats/stats.py:1541: UserWarning: kurtosistest only valid for n>=20 ... continuing anyway, n=9\n",
      "  warnings.warn(\"kurtosistest only valid for n>=20 ... continuing \"\n"
     ]
    }
   ],
   "source": [
    "print(results.summary())"
   ]
  },
  {
   "cell_type": "markdown",
   "metadata": {
    "id": "kHPnqRj105lL"
   },
   "source": [
    "___\n",
    "\n",
    "**(b)** On the other hand, Sid has realized that his son wakes up whenever he hears a song that has been played before (clever, isn't he!). Use your previous simulator to figure out how many songs Sid's son hears before he wakes up.\n",
    "\n",
    "___"
   ]
  },
  {
   "cell_type": "markdown",
   "metadata": {
    "id": "o-b5c59b2CV-"
   },
   "source": [
    "## Ans.\n",
    "\n"
   ]
  },
  {
   "cell_type": "code",
   "execution_count": 62,
   "metadata": {
    "id": "mT-3ogKx2Hzl"
   },
   "outputs": [],
   "source": [
    "def check_first(n):\n",
    "    songs = np.arange(1, n + 1)\n",
    "    counters = []\n",
    "    \n",
    "    for i in range(1000):\n",
    "        song_dict = {}\n",
    "        counter = 0 \n",
    "        while len(song_dict) < n:\n",
    "            rand_song = np.random.choice(songs)\n",
    "            if rand_song not in song_dict:\n",
    "                song_dict[rand_song] = 1\n",
    "                counter += 1\n",
    "            else:\n",
    "                break \n",
    "        counters.append(counter)\n",
    "    \n",
    "    \n",
    "    return counters "
   ]
  },
  {
   "cell_type": "code",
   "execution_count": 63,
   "metadata": {},
   "outputs": [
    {
     "name": "stdout",
     "output_type": "stream",
     "text": [
      "For n = 10 the average number of songs to play all songs is: 3.64\n",
      "95% CI: [3.3, 3.98]\n",
      "\n",
      "\n",
      "For n = 20 the average number of songs to play all songs is: 5.17\n",
      "95% CI: [4.68, 5.66]\n",
      "\n",
      "\n",
      "For n = 30 the average number of songs to play all songs is: 6.47\n",
      "95% CI: [5.85, 7.09]\n",
      "\n",
      "\n",
      "For n = 40 the average number of songs to play all songs is: 7.86\n",
      "95% CI: [7.11, 8.61]\n",
      "\n",
      "\n",
      "For n = 50 the average number of songs to play all songs is: 8.6\n",
      "95% CI: [7.76, 9.44]\n",
      "\n",
      "\n",
      "For n = 100 the average number of songs to play all songs is: 12.48\n",
      "95% CI: [11.29, 13.67]\n",
      "\n",
      "\n",
      "For n = 200 the average number of songs to play all songs is: 17.69\n",
      "95% CI: [15.98, 19.4]\n",
      "\n",
      "\n",
      "For n = 250 the average number of songs to play all songs is: 19.42\n",
      "95% CI: [17.41, 21.43]\n",
      "\n",
      "\n",
      "For n = 500 the average number of songs to play all songs is: 27.81\n",
      "95% CI: [24.96, 30.66]\n",
      "\n",
      "\n"
     ]
    },
    {
     "data": {
      "image/png": "[encoded data removed]",
      "text/plain": [
       "<Figure size 432x288 with 1 Axes>"
      ]
     },
     "metadata": {
      "needs_background": "light"
     },
     "output_type": "display_data"
    }
   ],
   "source": [
    "values = [10, 20, 30, 40, 50, 100, 200, 250, 500]\n",
    "means = []\n",
    "for value in values:\n",
    "    result = check_first(value)\n",
    "    mean = round(np.mean(result), 2)\n",
    "    means.append(mean)\n",
    "    std = round(np.std(result), 2)\n",
    "    halfwidth = 1.96 * std / (np.sqrt(100))\n",
    "    ci = [round(mean - halfwidth, 2), round(mean + halfwidth, 2)]\n",
    "    print('For n = ' + str(value) + ' the average number of songs to play all songs is: ' + str(mean)) \n",
    "    print('95% CI: ' + str(ci))\n",
    "    print('\\n')\n",
    "\n",
    "plt.plot(values, means)\n",
    "plt.xlabel('Number of songs in a playlist')\n",
    "plt.ylabel('Songs played before repetition')\n",
    "plt.show()"
   ]
  },
  {
   "cell_type": "markdown",
   "metadata": {
    "id": "SGw7QR3-2e_3"
   },
   "source": [
    "___\n",
    "\n",
    "**(c)** Suppose Spotify uses the following poor randomizer: it labels songs as $\\{0,1,2,\\ldots,n-1\\}$, and after playing a song $i$, it then either plays song $(i+1) mod(n)$ or $(i-1)mod(n)$ with probability $1/2$ (i.e., the next or previous song, imagining the songs to be in a ring with $n-1$ wrapping around to $1$). Simulate this randomizer for $n=20$, assuming you always start at song $1$, and find the histogram of the **last song to be played** for the first time using this shuffler.   \n",
    "\n",
    "___"
   ]
  },
  {
   "cell_type": "markdown",
   "metadata": {
    "id": "rbtZKA4I2wzN"
   },
   "source": [
    "## Ans."
   ]
  },
  {
   "cell_type": "code",
   "execution_count": 64,
   "metadata": {
    "id": "SdhOiOuZ2yO-"
   },
   "outputs": [],
   "source": [
    "last = []\n",
    "n = 20\n",
    "songs = np.arange(0, n - 1)\n",
    "finals = []\n",
    "\n",
    "\n",
    "for i in range(10000):\n",
    "    song_dict = {0:1}\n",
    "    song_index = 0 \n",
    "    \n",
    "    while len(song_dict) < n:\n",
    "        pick = np.random.choice(2)\n",
    "        if pick == 0:\n",
    "            song_index = (song_index + 1) % n \n",
    "        else:\n",
    "            song_index = (song_index - 1) % n\n",
    "            \n",
    "        if song_index not in song_dict:\n",
    "            song_dict[song_index] = 1\n",
    "    finals.append(song_index + 1)\n",
    "    "
   ]
  },
  {
   "cell_type": "code",
   "execution_count": 65,
   "metadata": {},
   "outputs": [
    {
     "data": {
      "image/png": "[encoded data removed]",
      "text/plain": [
       "<Figure size 432x288 with 1 Axes>"
      ]
     },
     "metadata": {
      "needs_background": "light"
     },
     "output_type": "display_data"
    }
   ],
   "source": [
    "plt.hist(finals)\n",
    "plt.xlabel('Last song to be played first')\n",
    "plt.ylabel('Frequency out of 10000 simulations')\n",
    "plt.show()"
   ]
  },
  {
   "cell_type": "markdown",
   "metadata": {
    "id": "RtMo9ndo3DbA"
   },
   "source": [
    "___\n",
    "\n",
    "**(d) (OPTIONAL)** For the above three questions, try and analytically derive the functions that you should get (and compare)"
   ]
  },
  {
   "cell_type": "markdown",
   "metadata": {
    "id": "Jq3RRJUG2z09"
   },
   "source": [
    "___\n",
    "___\n",
    "\n",
    "# Question 3: The gambler's ruin (20 points)\n",
    "\n",
    "The gambler's ruin is one of the most famous and widely studied models in stochastic processes. Imagine two gamblers $A$ and $B$ are playing a tournament, where they each start with \\$$a$ and \\$$b$ initially, and play a sequence of games, where each game is won by either player with probability $1/2$, with the winner giving \\$$1$ to the loser. Play goes on till one player runs out of money.\n",
    "\n",
    "___\n",
    "\n",
    "**(a)** Simulate this model to find the probability that player $A$ wins the overall tournament. Also, try and derive this analytically, and see how well the two match up.\n",
    "\n",
    "___"
   ]
  },
  {
   "cell_type": "markdown",
   "metadata": {
    "id": "Sor0QvV94lrw"
   },
   "source": [
    "## Ans."
   ]
  },
  {
   "cell_type": "code",
   "execution_count": 66,
   "metadata": {
    "id": "7QtijqJS4nsY"
   },
   "outputs": [],
   "source": [
    "def find_probA(startA, startB):\n",
    "    \n",
    "    a_wins = 0 \n",
    "    \n",
    "    for i in range(10000):\n",
    "        a = startA\n",
    "        b = startB\n",
    "        while a > 0 and b > 0:\n",
    "            pick = np.random.choice(['a','b'])\n",
    "            if pick == 'a':\n",
    "                a += 1\n",
    "                b -= 1\n",
    "            else:\n",
    "                a -= 1\n",
    "                b += 1\n",
    "        if b == 0:\n",
    "            a_wins += 1\n",
    "    \n",
    "    return a_wins/10000"
   ]
  },
  {
   "cell_type": "code",
   "execution_count": 67,
   "metadata": {},
   "outputs": [
    {
     "name": "stdout",
     "output_type": "stream",
     "text": [
      "Probability that A wins when starting values of a and b are 10: 0.4921\n",
      "Probability that B wins when starting values of a and b are 10: 0.5079\n"
     ]
    }
   ],
   "source": [
    "pa10 = round(find_probA(10, 10), 4)\n",
    "print('Probability that A wins when starting values of a and b are 10: ' + str(pa10))\n",
    "print('Probability that B wins when starting values of a and b are 10: ' + str(1 - pa10))"
   ]
  },
  {
   "cell_type": "code",
   "execution_count": 68,
   "metadata": {},
   "outputs": [
    {
     "name": "stdout",
     "output_type": "stream",
     "text": [
      "Probability that A wins when starting values of a and b are 10 and 15: 0.3951\n",
      "Probability that B wins when starting values of a and b are 10 and 15: 0.6049\n"
     ]
    }
   ],
   "source": [
    "pa15 = round(find_probA(10, 15), 4)\n",
    "print('Probability that A wins when starting values of a and b are 10 and 15: ' + str(pa15))\n",
    "print('Probability that B wins when starting values of a and b are 10 and 15: ' + str(1 - pa15))"
   ]
  },
  {
   "cell_type": "code",
   "execution_count": 69,
   "metadata": {},
   "outputs": [
    {
     "name": "stdout",
     "output_type": "stream",
     "text": [
      "Probability that A wins when starting values of a and b are 10 and 20: 0.3308\n",
      "Probability that B wins when starting values of a and b are 10 and 20: 0.6692\n"
     ]
    }
   ],
   "source": [
    "pa20 = round(find_probA(10, 20), 4)\n",
    "print('Probability that A wins when starting values of a and b are 10 and 20: ' + str(pa20))\n",
    "print('Probability that B wins when starting values of a and b are 10 and 20: ' + str(1 - pa20))"
   ]
  },
  {
   "cell_type": "markdown",
   "metadata": {},
   "source": [
    "### Analytical Approach\n",
    "\n",
    "Let's call $p_{a}$ the probability that player A wins given that they start with $a$ dollars and player B starts with $b$ dollars.\n",
    "\n",
    "Recursively: $p_{a} = \\frac{1}{2} * p_{a-1} + \\frac{1}{2} * p_{a+1}$\n",
    "\n",
    "Since it is impossible for A to lose money if they start with $0$ dollars, the boundary conditions is that $p_{0} = 0$\n",
    "\n",
    "$p_{1} = \\frac{1}{2} * 0 + \\frac{1}{2} * p_{2} = \\frac{p_{2}}{2}$\n",
    "\n",
    "$p_{2} = \\frac{2}{3} * p_{3}$\n",
    "\n",
    "$p_{3} = \\frac{3}{4} * p_{4}$\n",
    "\n",
    "This derivation can be simplied to $p_{a} = \\frac{b}{a+b}$\n",
    "\n",
    "When $a = b$, $p_{a} = p_{b} = \\frac{1}{2}$, which follows the simulation above. "
   ]
  },
  {
   "cell_type": "markdown",
   "metadata": {
    "id": "yamKqPJe4syT"
   },
   "source": [
    "___\n",
    "**(b)** Another question we can ask is how long it takes for the tournament to end. To study this, simulate the gambler's ruin for a range of values of $a$ and $b$, and use this to try and guess the expected time to ruin.\n",
    "\n",
    "*Hint: Convince yourself that the function must be symmetric in $a$ and $b$, so you can assume $a\\leq b$. Try plotting the expected absorption times for selected values of $a$, while varying $b$.*\n",
    "\n",
    "___"
   ]
  },
  {
   "cell_type": "markdown",
   "metadata": {
    "id": "NOU2vkmw46k1"
   },
   "source": [
    "## Ans."
   ]
  },
  {
   "cell_type": "code",
   "execution_count": 70,
   "metadata": {
    "id": "nTPZla0S47HJ"
   },
   "outputs": [],
   "source": [
    "def gametime(startA, startB):\n",
    "    counters = []\n",
    "    \n",
    "    for i in range(1000):\n",
    "        a = startA \n",
    "        b = startB\n",
    "        counter = 0 \n",
    "        while a > 0 and b > 0:\n",
    "            counter += 1\n",
    "            pick = np.random.choice(['a','b'])\n",
    "            if pick == 'a':\n",
    "                a += 1\n",
    "                b -= 1\n",
    "            else:\n",
    "                a -= 1 \n",
    "                b += 1\n",
    "        counters.append(counter)\n",
    "    \n",
    "    result = np.mean(counters)\n",
    "        \n",
    "    return result"
   ]
  },
  {
   "cell_type": "code",
   "execution_count": 71,
   "metadata": {},
   "outputs": [],
   "source": [
    "a_values = np.arange(1, 11)\n",
    "b_values = np.arange(11, 21)\n",
    "times = np.zeros((len(b_values), len(a_values)))\n",
    "\n",
    "for i, b in enumerate(b_values):\n",
    "    for j, a in enumerate(a_values):\n",
    "        times[i,j] = gametime(a, b)"
   ]
  },
  {
   "cell_type": "code",
   "execution_count": 72,
   "metadata": {},
   "outputs": [
    {
     "data": {
      "image/png": "[encoded data removed]",
      "text/plain": [
       "<Figure size 720x432 with 2 Axes>"
      ]
     },
     "metadata": {
      "needs_background": "light"
     },
     "output_type": "display_data"
    }
   ],
   "source": [
    "plt.figure(figsize=(10, 6))\n",
    "plt.imshow(times, origin='lower')\n",
    "plt.colorbar(label='Expected Number of Games until End')\n",
    "plt.xlabel('Initial Amount of Player A (a)')\n",
    "plt.ylabel('Initial Amount of Player B (b)')\n",
    "plt.title('Expected Time in Gambler Ruin')\n",
    "plt.xticks(np.arange(len(a_values)), a_values)\n",
    "plt.yticks(np.arange(len(b_values)), b_values)\n",
    "plt.show()"
   ]
  },
  {
   "cell_type": "markdown",
   "metadata": {
    "id": "YX0Mw-EVb4GE"
   },
   "source": [
    "___\n",
    "___\n",
    "\n",
    "# Question 4: Simulation assigments take forever (25 points)\n",
    "\n",
    "You are convinced that Simulation homeworks take the longest time compared to all other assignments, while Sid maintains that all assignment times are identically distributed. To decide this debate once and for all, you decide to record how long it takes you to do your assignment, and then survey your friends on how long it took them to do their last assignment until you find someone who took longer$\\ldots$"
   ]
  },
  {
   "cell_type": "markdown",
   "metadata": {
    "id": "Yjy3dHqpb4GF"
   },
   "source": [
    "___\n",
    "\n",
    "**(a)**\n",
    "Suppose Sid is right (!) and all assignment completion times are truly identically distributed. Formally suppose your own assignment takes time (in hours) distributed as $T_0\\sim Exp(0.5)$, and similarly the $i^{th}$ friend you survey also takes time $T_i\\sim Exp(0.5)$, independent of all other friends. Run 100 simulations and report a $95\\%$ CI for the expected number of friends you need to survey to find someone who takes longer.\n",
    "___\n"
   ]
  },
  {
   "cell_type": "markdown",
   "metadata": {
    "id": "wOQnI769b4GF"
   },
   "source": [
    "## Ans.\n"
   ]
  },
  {
   "cell_type": "code",
   "execution_count": 88,
   "metadata": {},
   "outputs": [
    {
     "name": "stdout",
     "output_type": "stream",
     "text": [
      "Expected number of friends needed to survey:  4.62\n",
      "95% confidence interval:  (1.930211023094755, 7.309788976905246)\n"
     ]
    }
   ],
   "source": [
    "import numpy as np\n",
    "import pandas as pd\n",
    "\n",
    "n = 100\n",
    "num_friends = []\n",
    "\n",
    "for i in range(n):\n",
    "    t_0 = np.random.exponential(2)\n",
    "    count = 0\n",
    "    test = False\n",
    "    \n",
    "    while test == False:\n",
    "        t_i = np.random.exponential(2)\n",
    "        count+=1\n",
    "        \n",
    "        if t_i > t_0:\n",
    "            test = True\n",
    "    \n",
    "    num_friends.append(count)\n",
    "\n",
    "mean_friends = np.mean(num_friends)\n",
    "std_error = np.std(num_friends, ddof=1)/np.sqrt(n)\n",
    "\n",
    "z = norm.ppf(0.975)\n",
    "CI = (mean_friends-z*std_error,mean_friends+z*std_error)\n",
    "\n",
    "print(\"Expected number of friends needed to survey: \", mean_friends)\n",
    "print(\"95% confidence interval: \", CI)"
   ]
  },
  {
   "cell_type": "markdown",
   "metadata": {
    "id": "DRpHC9hbb4GF"
   },
   "source": [
    "___\n",
    "\n",
    "**(b)** You are concerned that the CI looks a little wide, so decide to do more replications to fix the problem. Repeat the above simulation with number of replications $n\\in\\{100,500,1000,1500,2000,2500,\\ldots,9500,10000\\}$, and plot the estimates and $95\\%$ CIs.\n",
    "___"
   ]
  },
  {
   "cell_type": "markdown",
   "metadata": {
    "id": "1khe5-56b4GF"
   },
   "source": [
    "## Ans.\n"
   ]
  },
  {
   "cell_type": "code",
   "execution_count": 73,
   "metadata": {},
   "outputs": [],
   "source": [
    "n_sim = [100, 500, 1000, 1500, 2000, 2500, 3000, \n",
    "        3500, 4000, 4500, 5000, 5500, 6000, 6500, \n",
    "        7000, 7500, 8000, 8500, 9000, 9500, 10000]"
   ]
  },
  {
   "cell_type": "code",
   "execution_count": 83,
   "metadata": {},
   "outputs": [
    {
     "name": "stdout",
     "output_type": "stream",
     "text": [
      "[6.39, 14.976, 5.645, 11.694666666666667, 7.87, 17.6048, 7.841333333333333, 6.8348571428571425, 7.5805, 11.972888888888889, 7.0586, 6.622909090909091, 10.171333333333333, 8.484923076923076, 9.837571428571428, 10.035866666666667, 11.557625, 7.967294117647059, 9.655888888888889, 11.909263157894737, 9.9387]\n"
     ]
    },
    {
     "data": {
      "image/png": "[encoded data removed]",
      "text/plain": [
       "<Figure size 720x432 with 1 Axes>"
      ]
     },
     "metadata": {
      "needs_background": "light"
     },
     "output_type": "display_data"
    }
   ],
   "source": [
    "import numpy as np\n",
    "import pandas as pd\n",
    "from scipy.stats import norm\n",
    "\n",
    "# testing\n",
    "\n",
    "means=[]\n",
    "CI_lower_bounds = []\n",
    "CI_upper_bounds = []\n",
    "y_errors = []\n",
    "\n",
    "for j in n_sim:\n",
    "    \n",
    "    num_friends = []\n",
    "    \n",
    "    for i in range(j):\n",
    "        \n",
    "        t_0 = np.random.exponential(2)\n",
    "        count = 0\n",
    "        test = False\n",
    "\n",
    "        while test == False:\n",
    "            t_i = np.random.exponential(2)\n",
    "\n",
    "            count+=1\n",
    "            if t_i > t_0:\n",
    "                test = True;\n",
    "\n",
    "        num_friends.append(count)\n",
    "\n",
    "    mean_friends = np.mean(num_friends)\n",
    "    std_error = np.std(num_friends, ddof=1)/np.sqrt(j)\n",
    "\n",
    "    z = norm.ppf(0.975)\n",
    "    CI_lower = mean_friends-z*std_error\n",
    "    CI_upper = mean_friends+z*std_error\n",
    "\n",
    "    \n",
    "    means.append(mean_friends)\n",
    "    CI_lower_bounds.append(CI_lower)\n",
    "    CI_upper_bounds.append(CI_upper)\n",
    "    \n",
    "print(means)\n",
    "\n",
    "plt.figure(figsize=(10,6))\n",
    "plt.plot(n_sim,means, marker='o', label='Mean Estimate')\n",
    "plt.fill_between(n_sim, CI_lower_bounds, CI_upper_bounds, alpha=0.3, label='95% CI')\n",
    "plt.xlabel(\"Number of Simulations\")\n",
    "plt.ylabel(\"Expected Number of Friends\")\n",
    "plt.title(\"Comparing Impact of Number Simulations on Expected Value\")\n",
    "plt.legend()\n",
    "plt.show()"
   ]
  },
  {
   "cell_type": "markdown",
   "metadata": {
    "id": "9NNPvFQY0HM4"
   },
   "source": [
    "___\n",
    "**(c)** Hopefully you found the previous part a little surprising(?) Why is that the case? Well, this question highlights an important aspect of simulation that we have taken for granted in past problems -- in order to get an estimator for an unknown quantity, we *need that quantity to be finite*! Find an expression for computing the expected number of queries till we get one which is larger in the above setting, and argue that it is infinite.\n",
    "\n",
    "*Hint: Remember how we used linearity of expectation and indicator random variables before? Try doing the same, with indicator variables for the $i^{th}$ person (for each $i\\in\\{1,2,\\ldots\\}$) being the first person surveyed who took longer than you).*\n",
    "___\n"
   ]
  },
  {
   "cell_type": "markdown",
   "metadata": {
    "id": "g2AJuYY20z1W"
   },
   "source": [
    "## Ans.\n",
    "\n",
    "Create an indicator variable: $X_i$\n",
    "\n",
    "$X_i = 1$ if the i-th friend takes longer than you\n",
    "$X_i = 0$ if the i-th friend does NOT take longer than you\n",
    "\n",
    "Due to linearity of expectation:\n",
    "\n",
    "$ E[\\text{# of queries}] = 1*E[X_1] + 2*E[X_2] + 3*E[X_3] + ... + i*E[X_i]$\n",
    "\n",
    "$P(X_i=1) = P[T_i>T_0 and T_i <= T_0 for all j<i]$\n",
    "\n",
    "$𝑇_𝑖∼𝐸𝑥𝑝(0.5)$, so $P(T_0 >= T_i) = \\frac{1}{2}$ for any i\n",
    "\n",
    "Therefore, $P(T_0 >= T_j) = \\frac{1}{i+1}$ for all $j<i$\n",
    "\n",
    "Thus, $P(T_0 >= T_j \\text{ and } T_0 < T_i) = \\frac{1}{i} - \\frac{1}{i+1}$\n",
    "\n",
    "$ E[\\text{# of queries}=i] = i*(\\frac{1}{i} - \\frac{1}{i+1})$\n",
    "\n",
    "$= 1 - \\frac{1}{i+1}$\n",
    "\n",
    "This is a divergent series. Therefore, the expected number of queries until you find someone who takes longer than you is infinite. Therefore, you would have to survey an infinite number of friends \n"
   ]
  }
 ],
 "metadata": {
  "colab": {
   "provenance": []
  },
  "kernelspec": {
   "display_name": "Python 3 (ipykernel)",
   "language": "python",
   "name": "python3"
  },
  "language_info": {
   "codemirror_mode": {
    "name": "ipython",
    "version": 3
   },
   "file_extension": ".py",
   "mimetype": "text/x-python",
   "name": "python",
   "nbconvert_exporter": "python",
   "pygments_lexer": "ipython3",
   "version": "3.9.12"
  }
 },
 "nbformat": 4,
 "nbformat_minor": 1
}
